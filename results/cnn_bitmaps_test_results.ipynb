{
  "nbformat": 4,
  "nbformat_minor": 0,
  "metadata": {
    "colab": {
      "name": "cnn_bitmaps_test_results.ipynb",
      "provenance": [],
      "authorship_tag": "ABX9TyMzAVH+wDQnhc9PRxu0sHvQ",
      "include_colab_link": true
    },
    "kernelspec": {
      "name": "python3",
      "display_name": "Python 3"
    },
    "accelerator": "GPU"
  },
  "cells": [
    {
      "cell_type": "markdown",
      "metadata": {
        "id": "view-in-github",
        "colab_type": "text"
      },
      "source": [
        "<a href=\"https://colab.research.google.com/github/cs-deep-quickdraw/notebooks/blob/master/results/cnn_bitmaps_test_results.ipynb\" target=\"_parent\"><img src=\"https://colab.research.google.com/assets/colab-badge.svg\" alt=\"Open In Colab\"/></a>"
      ]
    },
    {
      "cell_type": "markdown",
      "metadata": {
        "id": "Z_4cvyPTIvT3",
        "colab_type": "text"
      },
      "source": [
        "This notebook shows the performance of three models on the test set."
      ]
    },
    {
      "cell_type": "code",
      "metadata": {
        "id": "XOuUzvFpCPY7",
        "colab_type": "code",
        "colab": {
          "base_uri": "https://localhost:8080/",
          "height": 204
        },
        "outputId": "80d424c5-9852-4e65-9f27-c049b0180fa9"
      },
      "source": [
        "!wget 'https://raw.githubusercontent.com/cs-deep-quickdraw/notebooks/master/100_classes.txt'\n",
        "!mkdir data"
      ],
      "execution_count": 1,
      "outputs": [
        {
          "output_type": "stream",
          "text": [
            "--2020-03-01 17:05:53--  https://raw.githubusercontent.com/cs-deep-quickdraw/notebooks/master/100_classes.txt\n",
            "Resolving raw.githubusercontent.com (raw.githubusercontent.com)... 151.101.0.133, 151.101.64.133, 151.101.128.133, ...\n",
            "Connecting to raw.githubusercontent.com (raw.githubusercontent.com)|151.101.0.133|:443... connected.\n",
            "HTTP request sent, awaiting response... 200 OK\n",
            "Length: 760 [text/plain]\n",
            "Saving to: ‘100_classes.txt’\n",
            "\n",
            "\r100_classes.txt       0%[                    ]       0  --.-KB/s               \r100_classes.txt     100%[===================>]     760  --.-KB/s    in 0s      \n",
            "\n",
            "2020-03-01 17:05:53 (208 MB/s) - ‘100_classes.txt’ saved [760/760]\n",
            "\n"
          ],
          "name": "stdout"
        }
      ]
    },
    {
      "cell_type": "code",
      "metadata": {
        "id": "No56pUpSCogD",
        "colab_type": "code",
        "colab": {}
      },
      "source": [
        "import urllib.request\n",
        "\n",
        "f = open(\"100_classes.txt\",\"r\")\n",
        "# And for reading use\n",
        "classes = [cls.strip() for cls in f.readlines()]\n",
        "f.close()\n",
        "\n",
        "def download(classes):\n",
        "  base = 'https://storage.googleapis.com/quickdraw_dataset/full/numpy_bitmap/'\n",
        "  for i, c in enumerate(classes):\n",
        "    cls_url = c.replace('_', '%20')\n",
        "    path = base+cls_url+'.npy'\n",
        "    print((1+i)/len(classes), c, path)\n",
        "    urllib.request.urlretrieve(path, 'data/'+c+'.npy')"
      ],
      "execution_count": 0,
      "outputs": []
    },
    {
      "cell_type": "code",
      "metadata": {
        "id": "tvpJamzxCoi2",
        "colab_type": "code",
        "colab": {
          "base_uri": "https://localhost:8080/",
          "height": 1000
        },
        "outputId": "8de8a542-4251-4d05-a361-3b6d0ae3a3a4"
      },
      "source": [
        "download(classes)"
      ],
      "execution_count": 3,
      "outputs": [
        {
          "output_type": "stream",
          "text": [
            "0.01 drums https://storage.googleapis.com/quickdraw_dataset/full/numpy_bitmap/drums.npy\n",
            "0.02 sun https://storage.googleapis.com/quickdraw_dataset/full/numpy_bitmap/sun.npy\n",
            "0.03 laptop https://storage.googleapis.com/quickdraw_dataset/full/numpy_bitmap/laptop.npy\n",
            "0.04 anvil https://storage.googleapis.com/quickdraw_dataset/full/numpy_bitmap/anvil.npy\n",
            "0.05 baseball_bat https://storage.googleapis.com/quickdraw_dataset/full/numpy_bitmap/baseball%20bat.npy\n",
            "0.06 ladder https://storage.googleapis.com/quickdraw_dataset/full/numpy_bitmap/ladder.npy\n",
            "0.07 eyeglasses https://storage.googleapis.com/quickdraw_dataset/full/numpy_bitmap/eyeglasses.npy\n",
            "0.08 grapes https://storage.googleapis.com/quickdraw_dataset/full/numpy_bitmap/grapes.npy\n",
            "0.09 book https://storage.googleapis.com/quickdraw_dataset/full/numpy_bitmap/book.npy\n",
            "0.1 dumbbell https://storage.googleapis.com/quickdraw_dataset/full/numpy_bitmap/dumbbell.npy\n",
            "0.11 traffic_light https://storage.googleapis.com/quickdraw_dataset/full/numpy_bitmap/traffic%20light.npy\n",
            "0.12 wristwatch https://storage.googleapis.com/quickdraw_dataset/full/numpy_bitmap/wristwatch.npy\n",
            "0.13 wheel https://storage.googleapis.com/quickdraw_dataset/full/numpy_bitmap/wheel.npy\n",
            "0.14 shovel https://storage.googleapis.com/quickdraw_dataset/full/numpy_bitmap/shovel.npy\n",
            "0.15 bread https://storage.googleapis.com/quickdraw_dataset/full/numpy_bitmap/bread.npy\n",
            "0.16 table https://storage.googleapis.com/quickdraw_dataset/full/numpy_bitmap/table.npy\n",
            "0.17 tennis_racquet https://storage.googleapis.com/quickdraw_dataset/full/numpy_bitmap/tennis%20racquet.npy\n",
            "0.18 cloud https://storage.googleapis.com/quickdraw_dataset/full/numpy_bitmap/cloud.npy\n",
            "0.19 chair https://storage.googleapis.com/quickdraw_dataset/full/numpy_bitmap/chair.npy\n",
            "0.2 headphones https://storage.googleapis.com/quickdraw_dataset/full/numpy_bitmap/headphones.npy\n",
            "0.21 face https://storage.googleapis.com/quickdraw_dataset/full/numpy_bitmap/face.npy\n",
            "0.22 eye https://storage.googleapis.com/quickdraw_dataset/full/numpy_bitmap/eye.npy\n",
            "0.23 airplane https://storage.googleapis.com/quickdraw_dataset/full/numpy_bitmap/airplane.npy\n",
            "0.24 snake https://storage.googleapis.com/quickdraw_dataset/full/numpy_bitmap/snake.npy\n",
            "0.25 lollipop https://storage.googleapis.com/quickdraw_dataset/full/numpy_bitmap/lollipop.npy\n",
            "0.26 power_outlet https://storage.googleapis.com/quickdraw_dataset/full/numpy_bitmap/power%20outlet.npy\n",
            "0.27 pants https://storage.googleapis.com/quickdraw_dataset/full/numpy_bitmap/pants.npy\n",
            "0.28 mushroom https://storage.googleapis.com/quickdraw_dataset/full/numpy_bitmap/mushroom.npy\n",
            "0.29 star https://storage.googleapis.com/quickdraw_dataset/full/numpy_bitmap/star.npy\n",
            "0.3 sword https://storage.googleapis.com/quickdraw_dataset/full/numpy_bitmap/sword.npy\n",
            "0.31 clock https://storage.googleapis.com/quickdraw_dataset/full/numpy_bitmap/clock.npy\n",
            "0.32 hot_dog https://storage.googleapis.com/quickdraw_dataset/full/numpy_bitmap/hot%20dog.npy\n",
            "0.33 syringe https://storage.googleapis.com/quickdraw_dataset/full/numpy_bitmap/syringe.npy\n",
            "0.34 stop_sign https://storage.googleapis.com/quickdraw_dataset/full/numpy_bitmap/stop%20sign.npy\n",
            "0.35 mountain https://storage.googleapis.com/quickdraw_dataset/full/numpy_bitmap/mountain.npy\n",
            "0.36 smiley_face https://storage.googleapis.com/quickdraw_dataset/full/numpy_bitmap/smiley%20face.npy\n",
            "0.37 apple https://storage.googleapis.com/quickdraw_dataset/full/numpy_bitmap/apple.npy\n",
            "0.38 bed https://storage.googleapis.com/quickdraw_dataset/full/numpy_bitmap/bed.npy\n",
            "0.39 shorts https://storage.googleapis.com/quickdraw_dataset/full/numpy_bitmap/shorts.npy\n",
            "0.4 broom https://storage.googleapis.com/quickdraw_dataset/full/numpy_bitmap/broom.npy\n",
            "0.41 diving_board https://storage.googleapis.com/quickdraw_dataset/full/numpy_bitmap/diving%20board.npy\n",
            "0.42 flower https://storage.googleapis.com/quickdraw_dataset/full/numpy_bitmap/flower.npy\n",
            "0.43 spider https://storage.googleapis.com/quickdraw_dataset/full/numpy_bitmap/spider.npy\n",
            "0.44 cell_phone https://storage.googleapis.com/quickdraw_dataset/full/numpy_bitmap/cell%20phone.npy\n",
            "0.45 car https://storage.googleapis.com/quickdraw_dataset/full/numpy_bitmap/car.npy\n",
            "0.46 camera https://storage.googleapis.com/quickdraw_dataset/full/numpy_bitmap/camera.npy\n",
            "0.47 tree https://storage.googleapis.com/quickdraw_dataset/full/numpy_bitmap/tree.npy\n",
            "0.48 square https://storage.googleapis.com/quickdraw_dataset/full/numpy_bitmap/square.npy\n",
            "0.49 moon https://storage.googleapis.com/quickdraw_dataset/full/numpy_bitmap/moon.npy\n",
            "0.5 radio https://storage.googleapis.com/quickdraw_dataset/full/numpy_bitmap/radio.npy\n",
            "0.51 hat https://storage.googleapis.com/quickdraw_dataset/full/numpy_bitmap/hat.npy\n",
            "0.52 pizza https://storage.googleapis.com/quickdraw_dataset/full/numpy_bitmap/pizza.npy\n",
            "0.53 axe https://storage.googleapis.com/quickdraw_dataset/full/numpy_bitmap/axe.npy\n",
            "0.54 door https://storage.googleapis.com/quickdraw_dataset/full/numpy_bitmap/door.npy\n",
            "0.55 tent https://storage.googleapis.com/quickdraw_dataset/full/numpy_bitmap/tent.npy\n",
            "0.56 umbrella https://storage.googleapis.com/quickdraw_dataset/full/numpy_bitmap/umbrella.npy\n",
            "0.57 line https://storage.googleapis.com/quickdraw_dataset/full/numpy_bitmap/line.npy\n",
            "0.58 cup https://storage.googleapis.com/quickdraw_dataset/full/numpy_bitmap/cup.npy\n",
            "0.59 fan https://storage.googleapis.com/quickdraw_dataset/full/numpy_bitmap/fan.npy\n",
            "0.6 triangle https://storage.googleapis.com/quickdraw_dataset/full/numpy_bitmap/triangle.npy\n",
            "0.61 basketball https://storage.googleapis.com/quickdraw_dataset/full/numpy_bitmap/basketball.npy\n",
            "0.62 pillow https://storage.googleapis.com/quickdraw_dataset/full/numpy_bitmap/pillow.npy\n",
            "0.63 scissors https://storage.googleapis.com/quickdraw_dataset/full/numpy_bitmap/scissors.npy\n",
            "0.64 t-shirt https://storage.googleapis.com/quickdraw_dataset/full/numpy_bitmap/t-shirt.npy\n",
            "0.65 tooth https://storage.googleapis.com/quickdraw_dataset/full/numpy_bitmap/tooth.npy\n",
            "0.66 alarm_clock https://storage.googleapis.com/quickdraw_dataset/full/numpy_bitmap/alarm%20clock.npy\n",
            "0.67 paper_clip https://storage.googleapis.com/quickdraw_dataset/full/numpy_bitmap/paper%20clip.npy\n",
            "0.68 spoon https://storage.googleapis.com/quickdraw_dataset/full/numpy_bitmap/spoon.npy\n",
            "0.69 microphone https://storage.googleapis.com/quickdraw_dataset/full/numpy_bitmap/microphone.npy\n",
            "0.7 candle https://storage.googleapis.com/quickdraw_dataset/full/numpy_bitmap/candle.npy\n",
            "0.71 pencil https://storage.googleapis.com/quickdraw_dataset/full/numpy_bitmap/pencil.npy\n",
            "0.72 envelope https://storage.googleapis.com/quickdraw_dataset/full/numpy_bitmap/envelope.npy\n",
            "0.73 saw https://storage.googleapis.com/quickdraw_dataset/full/numpy_bitmap/saw.npy\n",
            "0.74 frying_pan https://storage.googleapis.com/quickdraw_dataset/full/numpy_bitmap/frying%20pan.npy\n",
            "0.75 screwdriver https://storage.googleapis.com/quickdraw_dataset/full/numpy_bitmap/screwdriver.npy\n",
            "0.76 helmet https://storage.googleapis.com/quickdraw_dataset/full/numpy_bitmap/helmet.npy\n",
            "0.77 bridge https://storage.googleapis.com/quickdraw_dataset/full/numpy_bitmap/bridge.npy\n",
            "0.78 light_bulb https://storage.googleapis.com/quickdraw_dataset/full/numpy_bitmap/light%20bulb.npy\n",
            "0.79 ceiling_fan https://storage.googleapis.com/quickdraw_dataset/full/numpy_bitmap/ceiling%20fan.npy\n",
            "0.8 key https://storage.googleapis.com/quickdraw_dataset/full/numpy_bitmap/key.npy\n",
            "0.81 donut https://storage.googleapis.com/quickdraw_dataset/full/numpy_bitmap/donut.npy\n",
            "0.82 bird https://storage.googleapis.com/quickdraw_dataset/full/numpy_bitmap/bird.npy\n",
            "0.83 circle https://storage.googleapis.com/quickdraw_dataset/full/numpy_bitmap/circle.npy\n",
            "0.84 beard https://storage.googleapis.com/quickdraw_dataset/full/numpy_bitmap/beard.npy\n",
            "0.85 coffee_cup https://storage.googleapis.com/quickdraw_dataset/full/numpy_bitmap/coffee%20cup.npy\n",
            "0.86 butterfly https://storage.googleapis.com/quickdraw_dataset/full/numpy_bitmap/butterfly.npy\n",
            "0.87 bench https://storage.googleapis.com/quickdraw_dataset/full/numpy_bitmap/bench.npy\n",
            "0.88 rifle https://storage.googleapis.com/quickdraw_dataset/full/numpy_bitmap/rifle.npy\n",
            "0.89 cat https://storage.googleapis.com/quickdraw_dataset/full/numpy_bitmap/cat.npy\n",
            "0.9 sock https://storage.googleapis.com/quickdraw_dataset/full/numpy_bitmap/sock.npy\n",
            "0.91 ice_cream https://storage.googleapis.com/quickdraw_dataset/full/numpy_bitmap/ice%20cream.npy\n",
            "0.92 moustache https://storage.googleapis.com/quickdraw_dataset/full/numpy_bitmap/moustache.npy\n",
            "0.93 suitcase https://storage.googleapis.com/quickdraw_dataset/full/numpy_bitmap/suitcase.npy\n",
            "0.94 hammer https://storage.googleapis.com/quickdraw_dataset/full/numpy_bitmap/hammer.npy\n",
            "0.95 rainbow https://storage.googleapis.com/quickdraw_dataset/full/numpy_bitmap/rainbow.npy\n",
            "0.96 knife https://storage.googleapis.com/quickdraw_dataset/full/numpy_bitmap/knife.npy\n",
            "0.97 cookie https://storage.googleapis.com/quickdraw_dataset/full/numpy_bitmap/cookie.npy\n",
            "0.98 baseball https://storage.googleapis.com/quickdraw_dataset/full/numpy_bitmap/baseball.npy\n",
            "0.99 lightning https://storage.googleapis.com/quickdraw_dataset/full/numpy_bitmap/lightning.npy\n",
            "1.0 bicycle https://storage.googleapis.com/quickdraw_dataset/full/numpy_bitmap/bicycle.npy\n"
          ],
          "name": "stdout"
        }
      ]
    },
    {
      "cell_type": "code",
      "metadata": {
        "id": "0RXeD-iUColD",
        "colab_type": "code",
        "colab": {
          "base_uri": "https://localhost:8080/",
          "height": 442
        },
        "outputId": "3217d5d0-4eb8-407b-9ffe-7e101447ac79"
      },
      "source": [
        "!ls data"
      ],
      "execution_count": 4,
      "outputs": [
        {
          "output_type": "stream",
          "text": [
            "airplane.npy\t  circle.npy\t    key.npy\t      shorts.npy\n",
            "alarm_clock.npy   clock.npy\t    knife.npy\t      shovel.npy\n",
            "anvil.npy\t  cloud.npy\t    ladder.npy\t      smiley_face.npy\n",
            "apple.npy\t  coffee_cup.npy    laptop.npy\t      snake.npy\n",
            "axe.npy\t\t  cookie.npy\t    light_bulb.npy    sock.npy\n",
            "baseball_bat.npy  cup.npy\t    lightning.npy     spider.npy\n",
            "baseball.npy\t  diving_board.npy  line.npy\t      spoon.npy\n",
            "basketball.npy\t  donut.npy\t    lollipop.npy      square.npy\n",
            "beard.npy\t  door.npy\t    microphone.npy    star.npy\n",
            "bed.npy\t\t  drums.npy\t    moon.npy\t      stop_sign.npy\n",
            "bench.npy\t  dumbbell.npy\t    mountain.npy      suitcase.npy\n",
            "bicycle.npy\t  envelope.npy\t    moustache.npy     sun.npy\n",
            "bird.npy\t  eyeglasses.npy    mushroom.npy      sword.npy\n",
            "book.npy\t  eye.npy\t    pants.npy\t      syringe.npy\n",
            "bread.npy\t  face.npy\t    paper_clip.npy    table.npy\n",
            "bridge.npy\t  fan.npy\t    pencil.npy\t      tennis_racquet.npy\n",
            "broom.npy\t  flower.npy\t    pillow.npy\t      tent.npy\n",
            "butterfly.npy\t  frying_pan.npy    pizza.npy\t      tooth.npy\n",
            "camera.npy\t  grapes.npy\t    power_outlet.npy  traffic_light.npy\n",
            "candle.npy\t  hammer.npy\t    radio.npy\t      tree.npy\n",
            "car.npy\t\t  hat.npy\t    rainbow.npy       triangle.npy\n",
            "cat.npy\t\t  headphones.npy    rifle.npy\t      t-shirt.npy\n",
            "ceiling_fan.npy   helmet.npy\t    saw.npy\t      umbrella.npy\n",
            "cell_phone.npy\t  hot_dog.npy\t    scissors.npy      wheel.npy\n",
            "chair.npy\t  ice_cream.npy     screwdriver.npy   wristwatch.npy\n"
          ],
          "name": "stdout"
        }
      ]
    },
    {
      "cell_type": "code",
      "metadata": {
        "id": "F3y0Gv6wConP",
        "colab_type": "code",
        "colab": {}
      },
      "source": [
        "import pandas as pd\n",
        "import numpy as np\n",
        "from torch.utils.data import Dataset\n",
        "import torch\n",
        "import torch.nn as nn\n",
        "import torch.nn.functional as F\n",
        "from torch.autograd import Variable\n",
        "\n",
        "torch.manual_seed(42)\n",
        "np.random.seed(42)\n",
        "\n",
        "class DrawDataset(Dataset):\n",
        "    def __init__(self, X, Y, transform=None):\n",
        "        self.X = X\n",
        "        self.Y = Y\n",
        "        assert len(self.X) == len(self.Y)\n",
        "        self.transform = transform\n",
        "\n",
        "    def __len__(self):\n",
        "        return len(self.X)\n",
        "\n",
        "    def __getitem__(self, idx):\n",
        "        if torch.is_tensor(idx):\n",
        "            idx = idx.tolist()\n",
        "\n",
        "        x = torch.Tensor(self.X[idx]).type('torch.FloatTensor')\n",
        "        y = self.Y[idx]\n",
        "\n",
        "        if self.transform:\n",
        "            x = self.transform(x)\n",
        "\n",
        "        return [x, y]"
      ],
      "execution_count": 0,
      "outputs": []
    },
    {
      "cell_type": "code",
      "metadata": {
        "id": "FbIhfkNcCoqN",
        "colab_type": "code",
        "colab": {
          "base_uri": "https://localhost:8080/",
          "height": 34
        },
        "outputId": "16249751-09f5-43a7-8b4e-33602697381a"
      },
      "source": [
        "# Device configuration\n",
        "device = torch.device('cuda' if torch.cuda.is_available() else 'cpu')\n",
        "print('device = {}'.format(device))"
      ],
      "execution_count": 7,
      "outputs": [
        {
          "output_type": "stream",
          "text": [
            "device = cuda\n"
          ],
          "name": "stdout"
        }
      ]
    },
    {
      "cell_type": "code",
      "metadata": {
        "id": "xyw3XA2VHNhI",
        "colab_type": "code",
        "colab": {}
      },
      "source": [
        "def evaluate_model(model, loader):\n",
        "  with torch.no_grad():\n",
        "    correct = 0\n",
        "    total = 0\n",
        "    for batch_idx, (x, target) in enumerate(loader):\n",
        "      x, target = x.to(device), target.to(device)\n",
        "      out = model(x)\n",
        "      _, pred = torch.max(out.data, 1)\n",
        "      total += target.size(0)\n",
        "      correct += (pred == target).sum().item()\n",
        "    return 100. * correct / total"
      ],
      "execution_count": 0,
      "outputs": []
    },
    {
      "cell_type": "code",
      "metadata": {
        "id": "m6saEoztCpBq",
        "colab_type": "code",
        "colab": {}
      },
      "source": [
        "# N_TEST = 20_000 for results on the full test set\n",
        "N_TEST = 200"
      ],
      "execution_count": 0,
      "outputs": []
    },
    {
      "cell_type": "code",
      "metadata": {
        "id": "FX3lCpfXCpEI",
        "colab_type": "code",
        "colab": {}
      },
      "source": [
        "from torchvision import transforms\n",
        "\n",
        "def load_test_sets(max_classes=10):\n",
        "  X = None\n",
        "  Y = []\n",
        "\n",
        "  for i, cls in enumerate(classes[:max_classes]):\n",
        "    data = np.load(f'data/{cls}.npy')[:N_TEST].reshape(N_TEST, 1, 28, 28)\n",
        "    if X is not None:\n",
        "      X = np.concatenate((X, data))\n",
        "    else:\n",
        "      X = data\n",
        "\n",
        "    Y.extend([i for _ in range(N_TEST)])\n",
        "\n",
        "  mean = np.array([0.485, 0.456, 0.406])\n",
        "  std = np.array([0.229, 0.224, 0.225])\n",
        "\n",
        "  return DrawDataset(X, Y, transform=None), DrawDataset(X, Y, transform=transforms.Compose([\n",
        "        lambda x: x / 255,\n",
        "        lambda x: x.repeat(3,1,1),\n",
        "        transforms.Normalize(mean=mean, std=std)\n",
        "    ]))"
      ],
      "execution_count": 0,
      "outputs": []
    },
    {
      "cell_type": "code",
      "metadata": {
        "id": "SqxjJvSqCpG8",
        "colab_type": "code",
        "colab": {}
      },
      "source": [
        "test_set, test_set_rgb = load_test_sets(max_classes=100)"
      ],
      "execution_count": 0,
      "outputs": []
    },
    {
      "cell_type": "code",
      "metadata": {
        "id": "h8R-uJfECpLx",
        "colab_type": "code",
        "colab": {}
      },
      "source": [
        "batch_size = 64\n",
        "\n",
        "test_loader = torch.utils.data.DataLoader(\n",
        "                 dataset=test_set,\n",
        "                 batch_size=batch_size,\n",
        "                 shuffle=True)\n",
        "test_loader_rgb = torch.utils.data.DataLoader(\n",
        "                 dataset=test_set_rgb,\n",
        "                 batch_size=batch_size,\n",
        "                 shuffle=True)"
      ],
      "execution_count": 0,
      "outputs": []
    },
    {
      "cell_type": "code",
      "metadata": {
        "id": "FcWIe4Q_Cygj",
        "colab_type": "code",
        "colab": {}
      },
      "source": [
        "# Upload the models to colab's file system before running this cell\n",
        "resnet34_pretrained = torch.load('/content/resnet34_pretrained.model.epoch.9')\n",
        "mobilenet_pretrained = torch.load('/content/mobilenet_pretrained.model.epoch.37')\n",
        "resnet_experimental = torch.load('/content/resnet_experimental.model.epoch.8')"
      ],
      "execution_count": 0,
      "outputs": []
    },
    {
      "cell_type": "code",
      "metadata": {
        "id": "2cjxhQXiCyud",
        "colab_type": "code",
        "colab": {
          "base_uri": "https://localhost:8080/",
          "height": 85
        },
        "outputId": "95de0e98-0a55-4016-f953-92d303406fc7"
      },
      "source": [
        "print(\"Test accuracies:\")\n",
        "resnet34_pretrained.to(device)\n",
        "print(f\"ResNet34: {evaluate_model(resnet34_pretrained, test_loader_rgb)}\")\n",
        "mobilenet_pretrained.to(device)\n",
        "print(f\"MobileNet: {evaluate_model(mobilenet_pretrained, test_loader_rgb)}\")\n",
        "resnet_experimental.to(device)\n",
        "print(f\"Adapted ResNet18: {evaluate_model(resnet_experimental, test_loader)}\")"
      ],
      "execution_count": 21,
      "outputs": [
        {
          "output_type": "stream",
          "text": [
            "Test accuracies:\n",
            "ResNet34: 84.805\n",
            "MobileNet: 84.725\n",
            "Adapted ResNet18: 84.16\n"
          ],
          "name": "stdout"
        }
      ]
    },
    {
      "cell_type": "code",
      "metadata": {
        "id": "y_kgR2OJCy1T",
        "colab_type": "code",
        "colab": {}
      },
      "source": [
        ""
      ],
      "execution_count": 0,
      "outputs": []
    }
  ]
}